{
 "cells": [
  {
   "cell_type": "code",
   "execution_count": 1,
   "metadata": {},
   "outputs": [
    {
     "data": {
      "text/plain": [
       "True"
      ]
     },
     "execution_count": 1,
     "metadata": {},
     "output_type": "execute_result"
    }
   ],
   "source": [
    "# Import the load_dotenv function to access environment variables\n",
    "from dotenv import load_dotenv\n",
    "\n",
    "# Load environment variables from .env file\n",
    "# The override=True ensures existing variables are updated if needed\n",
    "load_dotenv(override=True)"
   ]
  },
  {
   "cell_type": "code",
   "execution_count": 2,
   "metadata": {},
   "outputs": [
    {
     "name": "stdout",
     "output_type": "stream",
     "text": [
      "OpenAI API Key exists and begins sk-proj-\n"
     ]
    }
   ],
   "source": [
    "# Import os module to access environment variables\n",
    "import os\n",
    "\n",
    "# Retrieve the OpenAI API key from environment variables\n",
    "openai_api_key = os.getenv('OPENAI_API_KEY')\n",
    "\n",
    "# Check if the API key is set and provide feedback\n",
    "if openai_api_key:\n",
    "    # Display only the first 8 characters of the key for security\n",
    "    print(f\"OpenAI API Key exists and begins {openai_api_key[:8]}\")\n",
    "else:\n",
    "    print(\"OpenAI API Key not set - please head to the troubleshooting guide in the setup folder\")"
   ]
  },
  {
   "cell_type": "code",
   "execution_count": 3,
   "metadata": {},
   "outputs": [],
   "source": [
    "# Import the OpenAI client library for interacting with the OpenAI API\n",
    "from openai import OpenAI"
   ]
  },
  {
   "cell_type": "code",
   "execution_count": 4,
   "metadata": {},
   "outputs": [],
   "source": [
    "# Initialize the OpenAI client to enable API interactions\n",
    "openai = OpenAI()"
   ]
  },
  {
   "cell_type": "code",
   "execution_count": 12,
   "metadata": {},
   "outputs": [],
   "source": [
    "def question_agent(prompt):\n",
    "    \"\"\"\n",
    "    Sends a prompt to the OpenAI API and returns the generated response.\n",
    "    \n",
    "    Args:\n",
    "        prompt (str): The input prompt to send to the model.\n",
    "    \n",
    "    Returns:\n",
    "        str: The response content from the model.\n",
    "    \"\"\"\n",
    "    try:\n",
    "        response = openai.chat.completions.create(\n",
    "            model=\"gpt-4o-mini\",\n",
    "            messages=[{\"role\": \"user\", \"content\": prompt}]\n",
    "        )\n",
    "        return response.choices[0].message.content\n",
    "    except Exception as e:\n",
    "        print(f\"Error calling OpenAI API: {e}\")\n",
    "        return None"
   ]
  },
  {
   "cell_type": "code",
   "execution_count": 13,
   "metadata": {},
   "outputs": [
    {
     "name": "stdout",
     "output_type": "stream",
     "text": [
      "Sure! If you could travel anywhere in the universe for one day, would you rather visit a distant exoplanet with exotic life forms or take a leisurely ride around Saturn’s rings? Why?\n"
     ]
    }
   ],
   "source": [
    "# Generate a fun space-related question using the question_agent function\n",
    "question = question_agent(\"Ask me a fun question about space?\")\n",
    "\n",
    "# Print the generated question\n",
    "print(question)"
   ]
  },
  {
   "cell_type": "code",
   "execution_count": 14,
   "metadata": {},
   "outputs": [
    {
     "name": "stdout",
     "output_type": "stream",
     "text": [
      "That sounds like an amazing choice! If I had to choose, I would probably opt for visiting a distant exoplanet with exotic life forms. The opportunity to encounter and observe entirely new ecosystems and forms of life would be incredibly fascinating. It would expand our understanding of biology, evolution, and the potential for life beyond Earth. The diversity and complexity of these life forms could provide insights into the conditions that allow life to flourish in the universe.\n",
      "\n",
      "On the other hand, a leisurely ride around Saturn's rings would also be breathtaking, with the stunning visuals of the rings and the planet itself. However, the experience of discovering new life forms and the potential for scientific breakthroughs would be hard to resist. Ultimately, exploring the unknown and learning more about the universe's diversity seems like the most compelling adventure!\n"
     ]
    }
   ],
   "source": [
    "# Define a function to generate a response to a given question using the OpenAI API\n",
    "def reply_agent(question):\n",
    "    \"\"\"\n",
    "    Sends a question to the OpenAI API and returns the generated response.\n",
    "    \n",
    "    Args:\n",
    "        question (str): The question to send to the model.\n",
    "    \n",
    "    Returns:\n",
    "        str: The response content from the model.\n",
    "    \"\"\"\n",
    "    response = openai.chat.completions.create(\n",
    "        model=\"gpt-4o-mini\",  # Specify the model to use\n",
    "        messages=[{\"role\": \"user\", \"content\": question}]  # Format the question as a user message\n",
    "    )\n",
    "    return response.choices[0].message.content\n",
    "\n",
    "# Use the reply_agent function to answer the previously generated question\n",
    "answer = reply_agent(question)\n",
    "\n",
    "# Print the answer\n",
    "print(answer)"
   ]
  },
  {
   "cell_type": "markdown",
   "metadata": {},
   "source": []
  },
  {
   "cell_type": "code",
   "execution_count": 5,
   "metadata": {},
   "outputs": [],
   "source": [
    "# Note: The installation command is commented out as it's typically run in a terminal\n",
    "# pip install openai-agents\n",
    "\n",
    "# Import core components from the openai-agents library\n",
    "from agents import Agent, Runner, trace"
   ]
  },
  {
   "cell_type": "code",
   "execution_count": 6,
   "metadata": {},
   "outputs": [
    {
     "name": "stdout",
     "output_type": "stream",
     "text": [
      "Agent(name='Friendly Assistant', instructions='You are a helpful and friendly assistant who loves to help people learn new things.', handoff_description=None, handoffs=[], model='gpt-4o-mini', model_settings=ModelSettings(temperature=None, top_p=None, frequency_penalty=None, presence_penalty=None, tool_choice=None, parallel_tool_calls=None, truncation=None, max_tokens=None, reasoning=None, metadata=None, store=None, include_usage=None, extra_query=None, extra_body=None, extra_headers=None), tools=[], mcp_servers=[], mcp_config={}, input_guardrails=[], output_guardrails=[], output_type=None, hooks=None, tool_use_behavior='run_llm_again', reset_tool_choice=True)\n"
     ]
    }
   ],
   "source": [
    "# Create a conversational AI agent with a friendly personality\n",
    "agent = Agent(\n",
    "    name=\"Friendly Assistant\",\n",
    "    instructions=\"You are a helpful and friendly assistant who loves to help people learn new things.\",\n",
    "    model=\"gpt-4o-mini\"  # Specify the model to use\n",
    ")\n",
    "\n",
    "# Print the agent object to inspect its configuration\n",
    "print(agent)"
   ]
  },
  {
   "cell_type": "code",
   "execution_count": 7,
   "metadata": {},
   "outputs": [
    {
     "name": "stdout",
     "output_type": "stream",
     "text": [
      "An AI agent is a computer program designed to perform tasks or solve problems by mimicking human-like decision-making. Think of it like a virtual assistant or a robot that can understand information, make choices, and take actions based on what it learns from its environment. AI agents can be as simple as a chatbot that answers questions or as complex as a self-driving car that navigates traffic. Their main goal is to help people or automate tasks by using data and algorithms to make smart decisions.\n"
     ]
    }
   ],
   "source": [
    "# Import the trace function for logging (already imported in previous cell)\n",
    "from agents import Runner, trace\n",
    "\n",
    "# Run the agent with a prompt to explain AI agents in simple terms\n",
    "with trace(\"First Agent Conversation\"):\n",
    "    result = await Runner.run(agent, \"Explain what an AI agent is in simple terms\")\n",
    "    print(result.final_output)"
   ]
  },
  {
   "cell_type": "code",
   "execution_count": 8,
   "metadata": {},
   "outputs": [
    {
     "name": "stdout",
     "output_type": "stream",
     "text": [
      "🎭 COMEDY AGENT:\n",
      "Alright, folks! Let's dive into the world of machine learning, but first, let’s imagine... \n",
      "\n",
      "Why don’t machines ever get lost? Because they always come with “learning” maps! \n",
      "\n",
      "Machine learning is like giving a computer a brain and saying, \"Study hard, and don’t forget to do your homework!\" But instead of math homework, it learns from data – and you thought high school was stressful!\n",
      "\n",
      "So picture this: you teach a dog to fetch. Every time it brings back the stick, you give it a treat. That’s how machine learning works! You feed the computer lots of data (like giving your dog lots of treats), and over time, it learns to recognize patterns. Just don’t forget to sprinkle in some “bad data” to keep it humble – like giving your dog a rubber chicken instead of a tasty treat. \n",
      "\n",
      "And when it gets something wrong? Let’s just say it’s as sad as a dog who just brought back a soggy sock for a treat! But eventually, it learns what’s good and what’s not, kind of like knowing not to chase the mailman!\n",
      "\n",
      "So, in short, machine learning is all about teaching computers to learn from experience. With just enough data and algorithms, they can spot trends better than we can find our car keys after a long day! \n",
      "\n",
      "Knock-knock! Who's there? Machine learning! Machine learning who? Machine learning to make sense of all this data, one giggle at a time!\n",
      "\n",
      "==================================================\n",
      "\n",
      "🎓 PROFESSOR AGENT:\n",
      "Machine learning (ML) is a subfield of artificial intelligence (AI) focused on the development of algorithms and statistical models that enable computers to perform tasks without explicit programming. Instead of being programmed with specific instructions for every possible scenario, machine learning systems are designed to learn from data, identify patterns, and make predictions or decisions based on that data.\n",
      "\n",
      "### Core Concepts\n",
      "\n",
      "1. **Data**: Machine learning relies heavily on datasets, which can be structured (like spreadsheets) or unstructured (like images or text). The quality and quantity of data significantly affect model performance.\n",
      "\n",
      "2. **Algorithms**: These are formalized rules or processes that guide the learning process. Commonly used algorithms include regression, decision trees, support vector machines, neural networks, and clustering techniques.\n",
      "\n",
      "3. **Training and Testing**: The learning process typically involves two phases:\n",
      "   - **Training**: In this phase, a model is trained on a subset of the data (the training set) where the desired output is known, allowing the algorithm to learn the underlying patterns.\n",
      "   - **Testing**: After training, the model is evaluated using a separate portion of the data (the test set) to assess its performance and generalizability to unseen data.\n",
      "\n",
      "4. **Overfitting and Underfitting**: \n",
      "   - **Overfitting** occurs when a model learns the noise in the training data too well, leading to poor performance on new, unseen data.\n",
      "   - **Underfitting** happens when a model is too simple to capture the underlying pattern effectively, resulting in low accuracy on both training and testing data.\n",
      "\n",
      "5. **Evaluation Metrics**: The effectiveness of an ML model is often assessed using metrics such as accuracy, precision, recall, F1-score, and AUC-ROC, depending on the specific task (e.g., classification or regression).\n",
      "\n",
      "### Types of Machine Learning\n",
      "\n",
      "1. **Supervised Learning**: In this approach, models are trained on labeled data, meaning that both the input and the output are known. Common applications include classification (e.g., email spam detection) and regression (e.g., predicting house prices).\n",
      "\n",
      "2. **Unsupervised Learning**: Here, the model learns from unlabeled data, aiming to discover hidden structure or patterns within the data. Techniques include clustering (e.g., customer segmentation) and dimensionality reduction (e.g., Principal Component Analysis).\n",
      "\n",
      "3. **Semi-supervised Learning**: This approach uses a combination of both labeled and unlabeled data, which is particularly useful when labeling is expensive or time-consuming.\n",
      "\n",
      "4. **Reinforcement Learning**: In this paradigm, an agent learns to make decisions by interacting with an environment and receiving feedback in the form of rewards or penalties. It is commonly applied in robotics and game playing.\n",
      "\n",
      "### Applications\n",
      "\n",
      "Machine learning has a broad range of applications across various fields, including but not limited to:\n",
      "\n",
      "- **Healthcare**: Predictive analytics for diagnosis, treatment recommendations, and personalized medicine.\n",
      "- **Finance**: Fraud detection, algorithmic trading, and credit scoring.\n",
      "- **Natural Language Processing (NLP)**: Language translation, sentiment analysis, and chatbots.\n",
      "- **Computer Vision**: Image recognition, facial recognition, and autonomous vehicles.\n",
      "\n",
      "### Conclusion\n",
      "\n",
      "Machine learning represents a significant technological advancement, enabling systems to adapt and improve over time without human intervention. As data becomes increasingly abundant, the importance of machine learning across various domains will continue to grow, making it a vital field of study in both academia and industry.\n"
     ]
    }
   ],
   "source": [
    "# Create two agents with distinct personalities\n",
    "comedy_agent = Agent(\n",
    "    name=\"Comedy Bot\",\n",
    "    instructions=\"You are a comedian who explains everything through jokes and humor. Make learning fun!\",\n",
    "    model=\"gpt-4o-mini\"  # Specify the model to use\n",
    ")\n",
    "\n",
    "serious_agent = Agent(\n",
    "    name=\"Professor\",\n",
    "    instructions=\"You are a serious academic professor who gives detailed, scholarly explanations.\",\n",
    "    model=\"gpt-4o-mini\"  # Specify the model to use\n",
    ")\n",
    "\n",
    "# Define a common question to test both agents\n",
    "question = \"What is machine learning?\"\n",
    "\n",
    "# Run both agents with the same question and compare their responses\n",
    "with trace(\"Personality Comparison\"):\n",
    "    # Run the comedy agent\n",
    "    comedy_result = await Runner.run(comedy_agent, question)\n",
    "    print(\"🎭 COMEDY AGENT:\")\n",
    "    print(comedy_result.final_output)\n",
    "    print(\"\\n\" + \"=\"*50 + \"\\n\")\n",
    "    \n",
    "    # Run the serious agent\n",
    "    serious_result = await Runner.run(serious_agent, question)\n",
    "    print(\"🎓 PROFESSOR AGENT:\")\n",
    "    print(serious_result.final_output)"
   ]
  },
  {
   "cell_type": "code",
   "execution_count": null,
   "metadata": {},
   "outputs": [],
   "source": []
  }
 ],
 "metadata": {
  "kernelspec": {
   "display_name": ".venv",
   "language": "python",
   "name": "python3"
  },
  "language_info": {
   "codemirror_mode": {
    "name": "ipython",
    "version": 3
   },
   "file_extension": ".py",
   "mimetype": "text/x-python",
   "name": "python",
   "nbconvert_exporter": "python",
   "pygments_lexer": "ipython3",
   "version": "3.13.2"
  }
 },
 "nbformat": 4,
 "nbformat_minor": 4
}
