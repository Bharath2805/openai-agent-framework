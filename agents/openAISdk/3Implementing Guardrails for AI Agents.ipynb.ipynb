{
 "cells": [
  {
   "cell_type": "code",
   "execution_count": 3,
   "metadata": {},
   "outputs": [
    {
     "data": {
      "text/plain": [
       "True"
      ]
     },
     "execution_count": 3,
     "metadata": {},
     "output_type": "execute_result"
    }
   ],
   "source": [
    "from dotenv import load_dotenv\n",
    "from openai import AsyncOpenAI\n",
    "from agents import Agent, Runner, trace, function_tool, OpenAIChatCompletionsModel, input_guardrail, GuardrailFunctionOutput, InputGuardrailTripwireTriggered\n",
    "from typing import Dict, Optional, List\n",
    "from pydantic import BaseModel\n",
    "import os\n",
    "from twilio.rest import Client  # WhatsApp messaging via Twilio\n",
    "load_dotenv(override=True)\n"
   ]
  },
  {
   "cell_type": "code",
   "execution_count": 6,
   "metadata": {},
   "outputs": [
    {
     "name": "stdout",
     "output_type": "stream",
     "text": [
      "API keys and clients initialized.\n"
     ]
    }
   ],
   "source": [
    "\n",
    "openai_api_key = os.getenv('OPENAI_API_KEY')\n",
    "google_api_key = os.getenv('GOOGLE_API_KEY')\n",
    "deepseek_api_key = os.getenv('DEEPSEEK_API_KEY')\n",
    "groq_api_key = os.getenv('GROQ_API_KEY')\n",
    "\n",
    "# Check if essential API keys are set\n",
    "if not openai_api_key:\n",
    "    raise ValueError(\"OPENAI_API_KEY environment variable not set. Please add it to your .env file.\")\n",
    "\n",
    "# Initialize the OpenAI client\n",
    "openai_client = AsyncOpenAI(api_key=openai_api_key)\n",
    "\n",
    "print(\"API keys and clients initialized.\")"
   ]
  },
  {
   "cell_type": "code",
   "execution_count": 7,
   "metadata": {},
   "outputs": [],
   "source": [
    "instructions_professional = \"You are a professional social media content creator working for 'Elite Digital', a marketing agency specializing in B2B tech clients. You craft precise, informative, and engaging social media posts for platforms like LinkedIn.\"\n",
    "\n",
    "instructions_humorous = \"You are a witty and engaging social media content creator working for 'Elite Digital'. You write humorous, trending, and shareable social media posts for platforms like X (formerly Twitter) and Instagram.\"\n",
    "\n",
    "instructions_concise = \"You are a busy social media content creator working for 'Elite Digital'. You write concise, to-the-point social media posts ideal for short-form content like Instagram Stories or quick updates.\""
   ]
  },
  {
   "cell_type": "code",
   "execution_count": 8,
   "metadata": {},
   "outputs": [],
   "source": [
    "GEMINI_BASE_URL = \"https://generativelanguage.googleapis.com/v1beta/openai/\"\n",
    "DEEPSEEK_BASE_URL = \"https://api.deepseek.com/v1\"\n",
    "GROQ_BASE_URL = \"https://api.groq.com/openai/v1\""
   ]
  },
  {
   "cell_type": "code",
   "execution_count": 9,
   "metadata": {},
   "outputs": [],
   "source": [
    "# Initialize AsyncOpenAI clients for different API providers\n",
    "deepseek_client = AsyncOpenAI(base_url=DEEPSEEK_BASE_URL, api_key=deepseek_api_key)\n",
    "gemini_client = AsyncOpenAI(base_url=GEMINI_BASE_URL, api_key=google_api_key)\n",
    "groq_client = AsyncOpenAI(base_url=GROQ_BASE_URL, api_key=groq_api_key)\n",
    "\n",
    "# Define models for each client\n",
    "deepseek_model = OpenAIChatCompletionsModel(model=\"deepseek-chat\", openai_client=deepseek_client)\n",
    "gemini_model = OpenAIChatCompletionsModel(model=\"gemini-2.0-flash\", openai_client=gemini_client)\n",
    "llama3_8b_model = OpenAIChatCompletionsModel(model=\"llama3-8b-8192\", openai_client=groq_client)"
   ]
  },
  {
   "cell_type": "code",
   "execution_count": 10,
   "metadata": {},
   "outputs": [],
   "source": [
    "# Create agents for generating social media posts with different tones\n",
    "post_agent_professional = Agent(name=\"Professional Post Agent\", instructions=instructions_professional, model=deepseek_model)\n",
    "post_agent_humorous = Agent(name=\"Humorous Post Agent\", instructions=instructions_humorous, model=gemini_model)\n",
    "post_agent_concise = Agent(name=\"Concise Post Agent\", instructions=instructions_concise, model=llama3_8b_model)"
   ]
  },
  {
   "cell_type": "code",
   "execution_count": 11,
   "metadata": {},
   "outputs": [],
   "source": [
    "# Define a common description for post generation tools\n",
    "description_post_gen = \"Generate a social media post for a given topic.\"\n",
    "\n",
    "# Convert social media agents into tools\n",
    "tool_professional_post = post_agent_professional.as_tool(tool_name=\"professional_post_generator\", tool_description=description_post_gen)\n",
    "tool_humorous_post = post_agent_humorous.as_tool(tool_name=\"humorous_post_generator\", tool_description=description_post_gen)\n",
    "tool_concise_post = post_agent_concise.as_tool(tool_name=\"concise_post_generator\", tool_description=description_post_gen)"
   ]
  },
  {
   "cell_type": "code",
   "execution_count": 12,
   "metadata": {},
   "outputs": [],
   "source": [
    "class WhatsAppMessage(BaseModel):\n",
    "    content: str\n",
    "    to_number: str  # WhatsApp number with country code\n",
    "    message_type: Optional[str] = \"social_media_post\"\n",
    "\n",
    "@function_tool\n",
    "def send_whatsapp_message(to_number: str, message_content: str) -> Dict[str, str]:\n",
    "    \"\"\"\n",
    "    Sends a message to a WhatsApp number using the Twilio API.\n",
    "    Args:\n",
    "        to_number (str): The recipient's WhatsApp number (e.g., \"+1234567890\").\n",
    "                         Must include the country code and be formatted correctly.\n",
    "        message_content (str): The content of the message to send.\n",
    "    Returns:\n",
    "        Dict[str, str]: A dictionary indicating the status of the message sending.\n",
    "    \"\"\"\n",
    "    account_sid = os.environ.get('WHATSAPP_ACCOUNT_SID')\n",
    "    auth_token = os.environ.get('WHATSAPP_AUTH_TOKEN')\n",
    "    from_number = os.environ.get('WHATSAPP_FROM_NUMBER')\n",
    "\n",
    "    if not all([account_sid, auth_token, from_number]):\n",
    "        return {\"status\": \"error\", \"message\": \"WhatsApp API credentials (ACCOUNT_SID, AUTH_TOKEN, FROM_NUMBER) not found in environment variables. Please check your .env file.\"}\n",
    "\n",
    "    try:\n",
    "        client = Client(account_sid, auth_token)\n",
    "        message = client.messages.create(\n",
    "            from_=f'whatsapp:{from_number}',\n",
    "            body=message_content,\n",
    "            to=f'whatsapp:{to_number}'\n",
    "        )\n",
    "        return {\"status\": \"success\", \"sid\": message.sid, \"message\": f\"Message sent to WhatsApp successfully. SID: {message.sid}\"}\n",
    "    except Exception as e:\n",
    "        return {\"status\": \"error\", \"message\": f\"Failed to send WhatsApp message: {e}\"}\n"
   ]
  },
  {
   "cell_type": "code",
   "execution_count": 13,
   "metadata": {},
   "outputs": [],
   "source": [
    "whatsapp_formatter_instructions = \"\"\"You are a WhatsApp message formatter for 'Elite Digital'. You receive a social media post in text format and need to format it appropriately for WhatsApp messaging. \n",
    "\n",
    "WhatsApp formatting guidelines:\n",
    "- Use emojis strategically to make the message engaging\n",
    "- Break long text into readable paragraphs\n",
    "- Use *bold* for emphasis where appropriate\n",
    "- Keep hashtags relevant and not overwhelming\n",
    "- Ensure the message is mobile-friendly and easy to read\n",
    "- Adapt the tone to be conversational while maintaining professionalism\n",
    "\n",
    "Focus on making the message clear, engaging, and suitable for WhatsApp's messaging format.\"\"\"\n",
    "\n",
    "whatsapp_formatter = Agent(\n",
    "    name=\"WhatsApp Message Formatter\", \n",
    "    instructions=whatsapp_formatter_instructions,\n",
    "    model=\"gpt-4o-mini\"\n",
    ")\n",
    "\n",
    "# Convert formatter to tool\n",
    "whatsapp_format_tool = whatsapp_formatter.as_tool(\n",
    "    tool_name=\"format_for_whatsapp\",\n",
    "    tool_description=\"Format a raw social media post text for WhatsApp messaging with appropriate formatting and emojis.\"\n",
    ")"
   ]
  },
  {
   "cell_type": "code",
   "execution_count": 14,
   "metadata": {},
   "outputs": [],
   "source": [
    "whatsapp_tools = [whatsapp_format_tool, send_whatsapp_message]\n",
    "\n",
    "whatsapp_dispatcher_instructions = \"\"\"You are a WhatsApp message dispatcher for 'Elite Digital'. You receive a final social media post and a WhatsApp number. Your task is to:\n",
    "\n",
    "1. First use the 'format_for_whatsapp' tool to format the post appropriately for WhatsApp\n",
    "2. Then use the 'send_whatsapp_message' tool to send it to the specified WhatsApp number\n",
    "\n",
    "The WhatsApp number should be provided in the input. If not provided, ask for it or use a default test number.\"\"\"\n",
    "\n",
    "whatsapp_dispatcher_agent = Agent(\n",
    "    name=\"WhatsApp Dispatcher\",\n",
    "    instructions=whatsapp_dispatcher_instructions,\n",
    "    tools=whatsapp_tools,\n",
    "    model=\"gpt-4o-mini\",\n",
    "    handoff_description=\"Format a social media post for WhatsApp and send it.\"\n",
    ")"
   ]
  },
  {
   "cell_type": "code",
   "execution_count": 15,
   "metadata": {},
   "outputs": [],
   "source": [
    "post_generation_tools = [tool_professional_post, tool_humorous_post, tool_concise_post]\n",
    "handoff_agents = [whatsapp_dispatcher_agent]\n"
   ]
  },
  {
   "cell_type": "code",
   "execution_count": 16,
   "metadata": {},
   "outputs": [
    {
     "name": "stdout",
     "output_type": "stream",
     "text": [
      "Running Social Media Manager with WhatsApp integration...\n",
      "The social media post about the benefits of AI in cybersecurity has been successfully sent to the WhatsApp number +4915222350056! 🎉\n",
      "\n",
      "### Message Details:\n",
      "- **Status**: Sent successfully\n",
      "- **Message SID**: SM1b24c668d45da2d88ef6f612bda14a9a\n",
      "\n",
      "If you need any further assistance or have another task, feel free to let me know!\n"
     ]
    }
   ],
   "source": [
    "social_media_manager_instructions = \"\"\"\n",
    "You are a Social Media Manager for 'Elite Digital'. Your task is to create compelling social media posts using 3 specialized agents:\n",
    "- A professional tone agent\n",
    "- A humorous tone agent  \n",
    "- A concise tone agent\n",
    "\n",
    "You must:\n",
    "1. Use each of the 3 social media tools exactly once.\n",
    "2. Compare the 3 outputs.\n",
    "3. Select the single best one using your judgment of which is most effective and suitable for the given platform.\n",
    "4. Handoff the selected post to the 'WhatsApp Dispatcher' agent for formatting and sending.\n",
    "\n",
    "The WhatsApp number will be provided in the input. Extract it and include it when handing off to the dispatcher.\n",
    "\n",
    "Do not loop or retry. Only call each tool once.\n",
    "\"\"\"\n",
    "\n",
    "social_media_manager = Agent(\n",
    "    name=\"Social Media Manager\",\n",
    "    instructions=social_media_manager_instructions.strip(),\n",
    "    tools=post_generation_tools,\n",
    "    handoffs=handoff_agents,\n",
    "    model=\"gpt-4o-mini\"\n",
    ")\n",
    "\n",
    "# Test the system\n",
    "message_topic = \"Generate a social media post about the benefits of AI in cybersecurity for LinkedIn. Send to WhatsApp number +4915222350056.\"\n",
    "\n",
    "print(\"Running Social Media Manager with WhatsApp integration...\")\n",
    "with trace(\"Automated Social Media Post to WhatsApp\") as t:\n",
    "    result = await Runner.run(social_media_manager, message_topic)\n",
    "print(result.final_output)"
   ]
  },
  {
   "cell_type": "code",
   "execution_count": null,
   "metadata": {},
   "outputs": [],
   "source": [
    "class KeywordCheckOutput(BaseModel):\n",
    "    contains_sensitive_keyword: bool\n",
    "    found_keywords: List[str]\n",
    "\n",
    "guardrail_keyword_agent = Agent(\n",
    "    name=\"Keyword Check Guardrail\",\n",
    "    instructions=\"Check if the user's request contains any sensitive or restricted keywords related to controversial topics, competitive names, or client confidential information. Respond with a boolean indicating if such keywords were found and a list of the keywords if any.\",\n",
    "    output_type=KeywordCheckOutput,\n",
    "    model=\"gpt-4o-mini\"\n",
    ")\n",
    "\n",
    "@input_guardrail\n",
    "async def guardrail_against_sensitive_keywords(ctx, agent, message):\n",
    "    \"\"\"\n",
    "    A guardrail to check if the user's input message contains any sensitive keywords.\n",
    "    Trips the wire if sensitive keywords are detected.\n",
    "    \"\"\"\n",
    "    result = await Runner.run(guardrail_keyword_agent, message, context=ctx.context)\n",
    "    contains_sensitive = result.final_output.contains_sensitive_keyword\n",
    "    return GuardrailFunctionOutput(\n",
    "        output_info={\"found_keywords\": result.final_output.found_keywords},\n",
    "        tripwire_triggered=contains_sensitive\n",
    "    )"
   ]
  },
  {
   "cell_type": "code",
   "execution_count": 16,
   "metadata": {},
   "outputs": [],
   "source": [
    "careful_social_media_manager = Agent(\n",
    "    name=\"Careful Social Media Manager\",\n",
    "    instructions=social_media_manager_instructions,\n",
    "    tools=post_generation_tools,\n",
    "    handoffs=handoff_agents,\n",
    "    model=\"gpt-4o-mini\",\n",
    "    input_guardrails=[guardrail_against_sensitive_keywords]\n",
    ")\n",
    "\n",
    "# Test message expected to trip the guardrail\n",
    "message_guarded_fail = \"Create a social media post about why 'CompetitorX' is inferior for B2B cybersecurity. Send to WhatsApp +4915222350056.\"\n",
    "\n",
    "print(\"\\n--- Running with Guardrail (should be tripped) ---\")\n",
    "with trace(\"Protected Social Media Post to WhatsApp - Fail\"):\n",
    "    try:\n",
    "        result_guarded_fail = await Runner.run(careful_social_media_manager, message_guarded_fail)\n",
    "        print(f\"Guarded Result (Fail): {result_guarded_fail}\")\n",
    "    except InputGuardrailTripwireTriggered as e:\n",
    "        print(f\"❌ Guardrail Tripped! Input blocked for: '{message_guarded_fail}'\")\n",
    "        print(f\"🔒 Guardrail Name: {e.guardrail_result.guardrail.get_name()}\")\n",
    "        print(\"📋 Full Guardrail Result:\", e.guardrail_result)\n",
    "\n",
    "# Test message expected to pass the guardrail\n",
    "message_guarded_success = \"Generate a social media post about the importance of data privacy in cloud computing. Send to WhatsApp +4915222350056.\"\n",
    "\n",
    "print(\"\\n--- Running with Guardrail (should succeed) ---\")\n",
    "with trace(\"Protected Social Media Post to WhatsApp - Success\"):\n",
    "    try:\n",
    "        result_guarded_success = await Runner.run(careful_social_media_manager, message_guarded_success)\n",
    "        print(f\"✅ Guarded Result (Success): {result_guarded_success}\")\n",
    "    except InputGuardrailTripwireTriggered as e:\n",
    "        print(f\"❌ Unexpected Guardrail Trip for: '{message_guarded_success}'\")\n",
    "        print(f\"🔒 Guardrail Name: {e.guardrail_result.guardrail.get_name()}\")\n",
    "        print(\"📋 Full Guardrail Result:\", e.guardrail_result)"
   ]
  }
 ],
 "metadata": {
  "kernelspec": {
   "display_name": ".venv-new",
   "language": "python",
   "name": "python3"
  },
  "language_info": {
   "codemirror_mode": {
    "name": "ipython",
    "version": 3
   },
   "file_extension": ".py",
   "mimetype": "text/x-python",
   "name": "python",
   "nbconvert_exporter": "python",
   "pygments_lexer": "ipython3",
   "version": "3.12.2"
  }
 },
 "nbformat": 4,
 "nbformat_minor": 2
}
