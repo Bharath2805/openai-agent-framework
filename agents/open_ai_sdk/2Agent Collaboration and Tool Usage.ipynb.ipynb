{
 "cells": [
  {
   "cell_type": "code",
   "execution_count": 9,
   "metadata": {},
   "outputs": [
    {
     "data": {
      "text/plain": [
       "True"
      ]
     },
     "execution_count": 9,
     "metadata": {},
     "output_type": "execute_result"
    }
   ],
   "source": [
    "# Import necessary libraries for environment, agents, HTTP requests, and typing\n",
    "from dotenv import load_dotenv\n",
    "from agents import Agent, Runner, trace, function_tool\n",
    "from typing import Dict\n",
    "import os\n",
    "import requests\n",
    "import asyncio\n",
    "\n",
    "# Load environment variables from .env file\n",
    "# override=True ensures existing variables are updated if present\n",
    "load_dotenv(override=True)"
   ]
  },
  {
   "cell_type": "code",
   "execution_count": 10,
   "metadata": {},
   "outputs": [],
   "source": [
    "# Define instructions for the triage agent to categorize customer queries\n",
    "triage_instructions = \"\"\"You are a customer support triage agent for a software company.\n",
    "Your main goal is to categorize incoming customer queries into one of the following:\n",
    "- 'technical_issue'\n",
    "- 'billing_inquiry'\n",
    "- 'feature_request'\n",
    "- 'general_question'\n",
    "You should also extract the key details of the customer's problem or request.\n",
    "Your response should always start with the category, followed by a summary of the issue.\n",
    "\"\"\"\n",
    "\n",
    "# Create the triage agent with specified instructions and model\n",
    "triage_agent = Agent(\n",
    "    name=\"Triage Agent\",\n",
    "    instructions=triage_instructions,\n",
    "    model=\"gpt-4o-mini\"\n",
    ")"
   ]
  },
  {
   "cell_type": "code",
   "execution_count": 11,
   "metadata": {},
   "outputs": [
    {
     "name": "stdout",
     "output_type": "stream",
     "text": [
      "Triage Agent processing query:\n",
      "**Category:** technical_issue  \n",
      "**Summary:** The customer is experiencing application crashes after a recent update and is unable to log in. They require urgent assistance.\n"
     ]
    }
   ],
   "source": [
    "# Define a sample customer query for testing the triage agent\n",
    "customer_query = \"My application keeps crashing after the latest update, and I can't log in at all. I need help urgently!\"\n",
    "\n",
    "# Process the query using the triage agent and print the result\n",
    "print(\"Triage Agent processing query:\")\n",
    "result = await Runner.run(triage_agent, input=customer_query)\n",
    "print(result.final_output)"
   ]
  },
  {
   "cell_type": "code",
   "execution_count": 12,
   "metadata": {},
   "outputs": [
    {
     "name": "stdout",
     "output_type": "stream",
     "text": [
      "FunctionTool(name='send_whatsapp_message', description='Sends a message to a WhatsApp number using the Twilio API.\\nArgs:\\n    to_number (str): The recipient\\'s WhatsApp number (e.g., \"+1234567890\").\\n                     Must include the country code and be formatted correctly.\\n    message_content (str): The content of the message to send.\\nReturns:\\n    Dict[str, str]: A dictionary indicating the status of the message sending.', params_json_schema={'properties': {'to_number': {'title': 'To Number', 'type': 'string'}, 'message_content': {'title': 'Message Content', 'type': 'string'}}, 'required': ['to_number', 'message_content'], 'title': 'send_whatsapp_message_args', 'type': 'object', 'additionalProperties': False}, on_invoke_tool=<function function_tool.<locals>._create_function_tool.<locals>._on_invoke_tool at 0x105cb5da0>, strict_json_schema=True, is_enabled=True)\n"
     ]
    }
   ],
   "source": [
    "import os\n",
    "from typing import Dict\n",
    "from agents import function_tool # Ensure this import is available\n",
    "from twilio.rest import Client # Import Twilio client\n",
    "\n",
    "@function_tool\n",
    "def send_whatsapp_message(to_number: str, message_content: str) -> Dict[str, str]:\n",
    "    \"\"\"\n",
    "    Sends a message to a WhatsApp number using the Twilio API.\n",
    "    Args:\n",
    "        to_number (str): The recipient's WhatsApp number (e.g., \"+1234567890\").\n",
    "                         Must include the country code and be formatted correctly.\n",
    "        message_content (str): The content of the message to send.\n",
    "    Returns:\n",
    "        Dict[str, str]: A dictionary indicating the status of the message sending.\n",
    "    \"\"\"\n",
    "    account_sid = os.environ.get('WHATSAPP_ACCOUNT_SID')\n",
    "    auth_token = os.environ.get('WHATSAPP_AUTH_TOKEN')\n",
    "    from_number = os.environ.get('WHATSAPP_FROM_NUMBER')\n",
    "\n",
    "    if not all([account_sid, auth_token, from_number]):\n",
    "        return {\"status\": \"error\", \"message\": \"WhatsApp API credentials (ACCOUNT_SID, AUTH_TOKEN, FROM_NUMBER) not found in environment variables. Please check your .env file.\"}\n",
    "\n",
    "    try:\n",
    "        client = Client(account_sid, auth_token)\n",
    "        message = client.messages.create(\n",
    "            from_=f'whatsapp:{from_number}', # Twilio requires 'whatsapp:' prefix\n",
    "            body=message_content,\n",
    "            to=f'whatsapp:{to_number}'       # Twilio requires 'whatsapp:' prefix\n",
    "        )\n",
    "        return {\"status\": \"success\", \"sid\": message.sid, \"message\": f\"Message sent to WhatsApp successfully. SID: {message.sid}\"}\n",
    "    except Exception as e:\n",
    "        return {\"status\": \"error\", \"message\": f\"Failed to send WhatsApp message: {e}\"}\n",
    "\n",
    "# Inspect the created tool to verify its configuration\n",
    "print(send_whatsapp_message)"
   ]
  },
  {
   "cell_type": "code",
   "execution_count": 13,
   "metadata": {},
   "outputs": [
    {
     "name": "stdout",
     "output_type": "stream",
     "text": [
      "\n",
      "WhatsApp Reporter sending a message:\n",
      "The message has been sent successfully to the WhatsApp number +4917612345678. Message SID: SM5d587d7d512c72520f248770fb470ea3.\n"
     ]
    }
   ],
   "source": [
    "# Create an agent to send messages to a WhatsApp number using the send_whatsapp_message tool\n",
    "whatsapp_reporter = Agent(\n",
    "    name=\"WhatsApp Reporter\",\n",
    "    instructions=\"You are an agent responsible for reporting important messages to a WhatsApp number. You always use the 'send_whatsapp_message' tool. The user will provide the recipient's WhatsApp number and the message content.\",\n",
    "    tools=[send_whatsapp_message], # Changed tool\n",
    "    model=\"gpt-4o-mini\"\n",
    ")\n",
    "\n",
    "# Test the WhatsApp Reporter with a sample message\n",
    "print(\"\\nWhatsApp Reporter sending a message:\")\n",
    "# IMPORTANT: Replace with a real, consented WhatsApp number for testing\n",
    "# This number will be parsed by the agent from the input string.\n",
    "customer_whatsapp_number_for_test = \"+4917612345678\" # Example: Replace with your actual WhatsApp number\n",
    "\n",
    "message_to_send_whatsapp = \"This is a test message from the WhatsApp Reporter Agent.\"\n",
    "result = await Runner.run(\n",
    "    whatsapp_reporter,\n",
    "    input=f\"Send the following message to WhatsApp number {customer_whatsapp_number_for_test}: {message_to_send_whatsapp}\"\n",
    ")\n",
    "print(result.final_output)"
   ]
  },
  {
   "cell_type": "code",
   "execution_count": 15,
   "metadata": {},
   "outputs": [
    {
     "name": "stdout",
     "output_type": "stream",
     "text": [
      "\n",
      "--- Running Support Flow for Technical Issue ---\n",
      "Final output for technical issue: I have successfully sent your troubleshooting response to your WhatsApp number. Here’s a brief overview of the message:\n",
      "\n",
      "- **Troubleshooting Steps**: Includes checking your credentials, resetting your password, clearing cache, and more.\n",
      "\n",
      "If you need further assistance or have any questions, feel free to reach out!\n",
      "\n",
      "--- Running Support Flow for Billing Inquiry ---\n",
      "Final output for billing inquiry: I've sent a message to your WhatsApp number regarding your billing inquiry. Here's a brief overview of the response:\n",
      "\n",
      "---\n",
      "\n",
      "I understand that receiving a higher-than-usual bill can be concerning. Let’s look into your subscription details to clarify any discrepancies.\n",
      "\n",
      "1. **Subscription Plan**: Please confirm your current plan so we can verify if there have been any changes or updates.\n",
      "2. **Usage Charges**: Sometimes, additional charges may apply due to increased usage or added services.\n",
      "3. **Promotions**: If you were previously on a promotional rate, it may have expired, leading to a higher bill.\n",
      "4. **Billing Period**: Ensure you're comparing the current bill to the appropriate billing period, as some months may have additional fees.\n",
      "\n",
      "Please let me know how you’d like to proceed! \n",
      "\n",
      "--- \n",
      "\n",
      "Feel free to respond with any details you have!\n",
      "\n",
      "--- Running Support Flow for Feature Request ---\n",
      "Final output for feature request: I've sent a response to the customer on WhatsApp, acknowledging their request for a dark mode feature. Let me know if there's anything else you need!\n"
     ]
    }
   ],
   "source": [
    "# Define instructions for the technical support agent\n",
    "technical_support_instructions = \"\"\"You are a highly knowledgeable technical support agent for a software company.\n",
    "Your goal is to provide clear, concise, and helpful solutions for technical issues.\n",
    "Always include troubleshooting steps and potential workarounds.\n",
    "\"\"\"\n",
    "\n",
    "# Define instructions for the billing support agent\n",
    "billing_support_instructions = \"\"\"You are a polite and efficient billing support agent.\n",
    "Your goal is to address billing inquiries with accuracy and empathy.\n",
    "Provide information on common billing issues, payment options, or how to contact the billing department directly.\n",
    "\"\"\"\n",
    "\n",
    "# Create specialized support agents\n",
    "technical_support_agent = Agent(\n",
    "    name=\"Technical Support Agent\",\n",
    "    instructions=technical_support_instructions,\n",
    "    model=\"gpt-4o-mini\"\n",
    ")\n",
    "\n",
    "billing_support_agent = Agent(\n",
    "    name=\"Billing Support Agent\",\n",
    "    instructions=billing_support_instructions,\n",
    "    model=\"gpt-4o-mini\"\n",
    ")\n",
    "\n",
    "# Convert specialized agents into tools for the Support Manager\n",
    "tech_tool = technical_support_agent.as_tool(\n",
    "    tool_name=\"technical_support_response\",\n",
    "    tool_description=\"Generate a detailed technical support response for a given issue.\"\n",
    ")\n",
    "\n",
    "billing_tool = billing_support_agent.as_tool(\n",
    "    tool_name=\"billing_support_response\",\n",
    "    tool_description=\"Generate a detailed billing support response for a given inquiry.\"\n",
    ")\n",
    "\n",
    "# Define all tools available to the Support Manager\n",
    "manager_tools = [\n",
    "    triage_agent.as_tool(tool_name=\"triage_query\", tool_description=\"Categorize and summarize a customer query.\"),\n",
    "    tech_tool,\n",
    "    billing_tool,\n",
    "    send_whatsapp_message # <--- CHANGED FROM send_discord_message\n",
    "]\n",
    "\n",
    "# Define instructions for the Support Manager to orchestrate the support process\n",
    "support_manager_instructions = \"\"\"You are a highly capable Support Manager for a software company.\n",
    "Your primary role is to process incoming customer queries and send responses to the customer's WhatsApp number.\n",
    "1. First, use the 'triage_query' tool to categorize the customer's message and summarize the core issue.\n",
    "2. Based on the category provided by the 'triage_query' tool:\n",
    "    - If the category is 'technical_issue', use the 'technical_support_response' tool to generate a technical solution.\n",
    "    - If the category is 'billing_inquiry', use the 'billing_support_response' tool to generate a billing response.\n",
    "    - For 'feature_request' or 'general_question', generate a polite acknowledgment and state that the request has been noted or a general answer.\n",
    "3. Once a response is generated (either by a specialized agent tool or directly by you for general queries/feature requests), use the 'send_whatsapp_message' tool to send the final customer-facing response to the customer's WhatsApp number. The customer's WhatsApp number will be provided in the initial query (e.g., \"My WhatsApp is +4917612345678, I have a billing issue...\"). Extract this number and use it when calling the send_whatsapp_message tool.\n",
    "\"\"\"\n",
    "\n",
    "# Create the Support Manager agent\n",
    "support_manager = Agent(\n",
    "    name=\"Support Manager\",\n",
    "    instructions=support_manager_instructions,\n",
    "    tools=manager_tools,\n",
    "    model=\"gpt-4o-mini\"\n",
    ")\n",
    "\n",
    "# Define sample customer queries for testing the support flow\n",
    "# IMPORTANT: Embed the WhatsApp number in the query for the agent to extract\n",
    "customer_query_1 = \"My WhatsApp number is +4915222350056. I can't log in after the update, it says 'invalid credentials' even though I'm sure my password is correct. What should I do?\"\n",
    "customer_query_2 = \"My WhatsApp number is +4915222350056. My last bill seems higher than usual, I'm not sure why. Can you check my subscription details?\"\n",
    "customer_query_3 = \"My WhatsApp number is +4915222350056. I'd love to see a dark mode feature in your next update! It would be much easier on my eyes.\"\n",
    "\n",
    "# Run the support flow for a technical issue\n",
    "print(\"\\n--- Running Support Flow for Technical Issue ---\")\n",
    "with trace(\"Automated Customer Support - Technical\"):\n",
    "    result_tech = await Runner.run(support_manager, customer_query_1)\n",
    "    print(f\"Final output for technical issue: {result_tech.final_output}\")\n",
    "\n",
    "# Run the support flow for a billing inquiry\n",
    "print(\"\\n--- Running Support Flow for Billing Inquiry ---\")\n",
    "with trace(\"Automated Customer Support - Billing\"):\n",
    "    result_billing = await Runner.run(support_manager, customer_query_2)\n",
    "    print(f\"Final output for billing inquiry: {result_billing.final_output}\")\n",
    "\n",
    "# Run the support flow for a feature request\n",
    "print(\"\\n--- Running Support Flow for Feature Request ---\")\n",
    "with trace(\"Automated Customer Support - Feature Request\"):\n",
    "    result_feature = await Runner.run(support_manager, customer_query_3)\n",
    "    print(f\"Final output for feature request: {result_feature.final_output}\")"
   ]
  },
  {
   "cell_type": "code",
   "execution_count": null,
   "metadata": {},
   "outputs": [],
   "source": []
  }
 ],
 "metadata": {
  "kernelspec": {
   "display_name": ".venv",
   "language": "python",
   "name": "python3"
  },
  "language_info": {
   "codemirror_mode": {
    "name": "ipython",
    "version": 3
   },
   "file_extension": ".py",
   "mimetype": "text/x-python",
   "name": "python",
   "nbconvert_exporter": "python",
   "pygments_lexer": "ipython3",
   "version": "3.13.2"
  }
 },
 "nbformat": 4,
 "nbformat_minor": 2
}
