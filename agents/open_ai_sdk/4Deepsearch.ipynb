{
 "cells": [
  {
   "cell_type": "code",
   "execution_count": 1,
   "metadata": {},
   "outputs": [
    {
     "name": "stdout",
     "output_type": "stream",
     "text": [
      "Imports and initial setup complete.\n"
     ]
    }
   ],
   "source": [
    "# Import necessary libraries for environment, agents, HTTP requests, data modeling, and display\n",
    "import os\n",
    "import asyncio\n",
    "import requests\n",
    "from agents import Agent, WebSearchTool, trace, Runner, gen_trace_id, function_tool\n",
    "from agents.model_settings import ModelSettings\n",
    "from pydantic import BaseModel, Field\n",
    "from dotenv import load_dotenv\n",
    "from typing import Dict\n",
    "from IPython.display import display, Markdown\n",
    "from twilio.rest import Client  # Import Twilio client for WhatsApp\n",
    "\n",
    "# Load environment variables from .env file\n",
    "# override=True ensures existing variables are updated if present\n",
    "load_dotenv(override=True)\n",
    "\n",
    "# Retrieve WhatsApp credentials from environment variables\n",
    "WHATSAPP_ACCOUNT_SID = os.getenv('WHATSAPP_ACCOUNT_SID')\n",
    "WHATSAPP_AUTH_TOKEN = os.getenv('WHATSAPP_AUTH_TOKEN')\n",
    "WHATSAPP_FROM_NUMBER = os.getenv('WHATSAPP_FROM_NUMBER')\n",
    "\n",
    "if not all([WHATSAPP_ACCOUNT_SID, WHATSAPP_AUTH_TOKEN, WHATSAPP_FROM_NUMBER]):\n",
    "    raise ValueError(\"WhatsApp API credentials (WHATSAPP_ACCOUNT_SID, WHATSAPP_AUTH_TOKEN, WHATSAPP_FROM_NUMBER) not found in environment variables. Please add them to your .env file.\")\n",
    "\n",
    "# Define constant for number of searches to perform\n",
    "HOW_MANY_SEARCHES = 3\n",
    "\n",
    "print(\"Imports and initial setup complete.\")"
   ]
  },
  {
   "cell_type": "code",
   "execution_count": 2,
   "metadata": {},
   "outputs": [
    {
     "name": "stdout",
     "output_type": "stream",
     "text": [
      "Agent instructions defined.\n"
     ]
    }
   ],
   "source": [
    "# Define instructions for the search agent to summarize web results\n",
    "SEARCH_AGENT_INSTRUCTIONS = \"\"\"You are a research assistant. Given a search term, you search the web for that term and produce a concise summary of the results. The summary must be 2-3 paragraphs and less than 300 words. Capture the main points. Write succinctly, no need to have complete sentences or good grammar. This will be consumed by someone synthesizing a report, so it's vital you capture the essence and ignore any fluff. Do not include any additional commentary other than the summary itself.\"\"\"\n",
    "\n",
    "# Define instructions for the planner agent to generate search terms\n",
    "PLANNER_AGENT_INSTRUCTIONS = f\"\"\"You are a helpful research assistant. Given a query, come up with a set of web searches to perform to best answer the query. Output {HOW_MANY_SEARCHES} terms to query for.\"\"\"\n",
    "\n",
    "# Define instructions for the writer agent to create a detailed report\n",
    "WRITER_AGENT_INSTRUCTIONS = (\n",
    "    \"You are a senior researcher tasked with writing a cohesive report for a research query. \"\n",
    "    \"You will be provided with the original query, and some initial research done by a research assistant.\\n\"\n",
    "    \"You should first come up with an outline for the report that describes the structure and \"\n",
    "    \"flow of the report. Then, generate the report and return that as your final output.\\n\"\n",
    "    \"The final output should be in markdown format, and it should be lengthy and detailed. Aim \"\n",
    "    \"for 5-10 pages of content, at least 1000 words.\"\n",
    ")\n",
    "\n",
    "# Define instructions for the WhatsApp agent to send formatted messages\n",
    "WHATSAPP_AGENT_INSTRUCTIONS = \"\"\"You are able to send a research report to a WhatsApp number based on a detailed report.\n",
    "You will be provided with a detailed report and a WhatsApp number. You should use your tool to send the report in a well-formatted manner suitable for WhatsApp messaging.\n",
    "\n",
    "For WhatsApp formatting:\n",
    "- Break long content into multiple messages if needed\n",
    "- Use emojis strategically for better readability\n",
    "- Use *bold* for emphasis where appropriate\n",
    "- Keep messages mobile-friendly and easy to read\n",
    "- Add appropriate subject lines or headers for each section\"\"\"\n",
    "\n",
    "print(\"Agent instructions defined.\")"
   ]
  },
  {
   "cell_type": "code",
   "execution_count": 3,
   "metadata": {},
   "outputs": [
    {
     "name": "stdout",
     "output_type": "stream",
     "text": [
      "Pydantic models for structured outputs defined.\n"
     ]
    }
   ],
   "source": [
    "# Define a Pydantic model for a single web search item\n",
    "class WebSearchItem(BaseModel):\n",
    "    reason: str = Field(description=\"Your reasoning for why this search is important to the query.\")\n",
    "    query: str = Field(description=\"The search term to use for the web search.\")\n",
    "\n",
    "# Define a Pydantic model for the web search plan\n",
    "class WebSearchPlan(BaseModel):\n",
    "    searches: list[WebSearchItem] = Field(description=\"A list of web searches to perform to best answer the query.\")\n",
    "\n",
    "# Define a Pydantic model for the report output\n",
    "class ReportData(BaseModel):\n",
    "    short_summary: str = Field(description=\"A short 2-3 sentence summary of the findings.\")\n",
    "    markdown_report: str = Field(description=\"The final report\")\n",
    "    follow_up_questions: list[str] = Field(description=\"Suggested topics to research further\")\n",
    "\n",
    "print(\"Pydantic models for structured outputs defined.\")"
   ]
  },
  {
   "cell_type": "code",
   "execution_count": 4,
   "metadata": {},
   "outputs": [
    {
     "name": "stdout",
     "output_type": "stream",
     "text": [
      "Search, Planner, and Writer agents defined.\n"
     ]
    }
   ],
   "source": [
    "# Create a search agent to perform web searches and summarize results\n",
    "search_agent = Agent(\n",
    "    name=\"Search agent\",\n",
    "    instructions=SEARCH_AGENT_INSTRUCTIONS,\n",
    "    tools=[WebSearchTool(search_context_size=\"low\")],\n",
    "    model=\"gpt-4o-mini\",\n",
    "    model_settings=ModelSettings(tool_choice=\"required\"),\n",
    ")\n",
    "\n",
    "# Create a planner agent to generate a structured web search plan\n",
    "planner_agent = Agent(\n",
    "    name=\"PlannerAgent\",\n",
    "    instructions=PLANNER_AGENT_INSTRUCTIONS,\n",
    "    model=\"gpt-4o-mini\",\n",
    "    output_type=WebSearchPlan,\n",
    ")\n",
    "\n",
    "# Create a writer agent to produce a detailed report\n",
    "writer_agent = Agent(\n",
    "    name=\"WriterAgent\",\n",
    "    instructions=WRITER_AGENT_INSTRUCTIONS,\n",
    "    model=\"gpt-4o-mini\",\n",
    "    output_type=ReportData,\n",
    ")\n",
    "\n",
    "print(\"Search, Planner, and Writer agents defined.\")"
   ]
  },
  {
   "cell_type": "code",
   "execution_count": 5,
   "metadata": {},
   "outputs": [],
   "source": [
    "# Define a tool to send messages to WhatsApp via Twilio\n",
    "@function_tool\n",
    "def send_whatsapp_message(to_number: str, message_content: str) -> Dict[str, str]:\n",
    "    \"\"\"\n",
    "    Sends a message to a WhatsApp number using the Twilio API.\n",
    "    Handles long content by splitting it into multiple messages if needed.\n",
    "    \n",
    "    Args:\n",
    "        to_number (str): The recipient's WhatsApp number (e.g., \"+1234567890\").\n",
    "                         Must include the country code and be formatted correctly.\n",
    "        message_content (str): The content of the message to send.\n",
    "    Returns:\n",
    "        Dict[str, str]: A dictionary indicating the status of the message sending.\n",
    "    \"\"\"\n",
    "    if not all([WHATSAPP_ACCOUNT_SID, WHATSAPP_AUTH_TOKEN, WHATSAPP_FROM_NUMBER]):\n",
    "        return {\"status\": \"error\", \"message\": \"WhatsApp API credentials not found in environment variables.\"}\n",
    "\n",
    "    # WhatsApp message length limit (approximately 4096 characters)\n",
    "    MAX_MESSAGE_LENGTH = 4000\n",
    "    \n",
    "    try:\n",
    "        client = Client(WHATSAPP_ACCOUNT_SID, WHATSAPP_AUTH_TOKEN)\n",
    "        \n",
    "        # Split long content into multiple messages if needed\n",
    "        if len(message_content) <= MAX_MESSAGE_LENGTH:\n",
    "            # Send as single message\n",
    "            message = client.messages.create(\n",
    "                from_=f'whatsapp:{WHATSAPP_FROM_NUMBER}',\n",
    "                body=message_content,\n",
    "                to=f'whatsapp:{to_number}'\n",
    "            )\n",
    "            return {\"status\": \"success\", \"sid\": message.sid, \"message\": f\"Message sent to WhatsApp successfully. SID: {message.sid}\"}\n",
    "        else:\n",
    "            # Split into multiple messages\n",
    "            content_chunks = []\n",
    "            current_chunk = \"\"\n",
    "            for line in message_content.splitlines(True):\n",
    "                if len(current_chunk) + len(line) <= MAX_MESSAGE_LENGTH:\n",
    "                    current_chunk += line\n",
    "                else:\n",
    "                    if current_chunk:\n",
    "                        content_chunks.append(current_chunk)\n",
    "                    current_chunk = line\n",
    "            if current_chunk:\n",
    "                content_chunks.append(current_chunk)\n",
    "            \n",
    "            # Send multiple messages\n",
    "            message_sids = []\n",
    "            for i, chunk in enumerate(content_chunks):\n",
    "                header = f\"📄 Research Report (Part {i+1}/{len(content_chunks)})\\n\\n\" if i > 0 else \"📄 Research Report\\n\\n\"\n",
    "                message_body = header + chunk\n",
    "                \n",
    "                message = client.messages.create(\n",
    "                    from_=f'whatsapp:{WHATSAPP_FROM_NUMBER}',\n",
    "                    body=message_body,\n",
    "                    to=f'whatsapp:{to_number}'\n",
    "                )\n",
    "                message_sids.append(message.sid)\n",
    "            \n",
    "            return {\"status\": \"success\", \"sids\": message_sids, \"message\": f\"Report sent in {len(content_chunks)} WhatsApp messages successfully.\"}\n",
    "            \n",
    "    except Exception as e:\n",
    "        return {\"status\": \"error\", \"message\": f\"Failed to send WhatsApp message: {e}\"}"
   ]
  },
  {
   "cell_type": "code",
   "execution_count": 6,
   "metadata": {},
   "outputs": [
    {
     "name": "stdout",
     "output_type": "stream",
     "text": [
      "WhatsApp Agent defined.\n"
     ]
    }
   ],
   "source": [
    "# Create a WhatsApp agent to send formatted messages using the Twilio tool\n",
    "whatsapp_agent = Agent(\n",
    "    name=\"WhatsApp Agent\",\n",
    "    instructions=WHATSAPP_AGENT_INSTRUCTIONS,\n",
    "    tools=[send_whatsapp_message],\n",
    "    model=\"gpt-4o-mini\",\n",
    ")\n",
    "\n",
    "print(\"WhatsApp Agent defined.\")"
   ]
  },
  {
   "cell_type": "code",
   "execution_count": 7,
   "metadata": {},
   "outputs": [
    {
     "name": "stdout",
     "output_type": "stream",
     "text": [
      "Orchestration functions for planning, searching, and writing report defined.\n"
     ]
    }
   ],
   "source": [
    "# Define a function to plan web searches for a query\n",
    "async def plan_searches(query: str):\n",
    "    \"\"\"Use the planner_agent to plan which searches to run for the query\"\"\"\n",
    "    print(\"Planning searches...\")\n",
    "    result = await Runner.run(planner_agent, f\"Query: {query}\")\n",
    "    print(f\"Will perform {len(result.final_output.searches)} searches\")\n",
    "    return result.final_output\n",
    "\n",
    "# Define a function to perform searches concurrently\n",
    "async def perform_searches(search_plan: WebSearchPlan):\n",
    "    \"\"\"Call search() for each item in the search plan concurrently\"\"\"\n",
    "    print(\"Searching...\")\n",
    "    tasks = [asyncio.create_task(search(item)) for item in search_plan.searches]\n",
    "    results = await asyncio.gather(*tasks)\n",
    "    print(\"Finished searching\")\n",
    "    return results\n",
    "\n",
    "# Define a function to execute a single search\n",
    "async def search(item: WebSearchItem):\n",
    "    \"\"\"Use the search agent to run a web search for each item in the search plan\"\"\"\n",
    "    input_message = f\"Search term: {item.query}\\nReason for searching: {item.reason}\"\n",
    "    result = await Runner.run(search_agent, input_message)\n",
    "    return result.final_output\n",
    "\n",
    "# Define a function to write a report based on search results\n",
    "async def write_report(query: str, search_results: list[str]):\n",
    "    \"\"\"Use the writer agent to write a report based on the search results\"\"\"\n",
    "    print(\"Thinking about report...\")\n",
    "    input_message = f\"Original query: {query}\\nSummarized search results: {search_results}\"\n",
    "    result = await Runner.run(writer_agent, input_message)\n",
    "    print(\"Finished writing report\")\n",
    "    return result.final_output\n",
    "\n",
    "print(\"Orchestration functions for planning, searching, and writing report defined.\")"
   ]
  },
  {
   "cell_type": "code",
   "execution_count": 8,
   "metadata": {},
   "outputs": [
    {
     "name": "stdout",
     "output_type": "stream",
     "text": [
      "Orchestration function for sending report to WhatsApp defined.\n"
     ]
    }
   ],
   "source": [
    "# Define a function to send a report to WhatsApp\n",
    "async def send_report_to_whatsapp(report: ReportData, whatsapp_number: str):\n",
    "    \"\"\"Use the whatsapp agent to send a WhatsApp message with the report\"\"\"\n",
    "    print(\"Preparing WhatsApp message...\")\n",
    "    input_message = f\"Send this research report to WhatsApp number {whatsapp_number}:\\n\\n{report.markdown_report}\"\n",
    "    result = await Runner.run(whatsapp_agent, input_message)\n",
    "    print(f\"WhatsApp message status: {result.final_output}\")\n",
    "    return report\n",
    "\n",
    "print(\"Orchestration function for sending report to WhatsApp defined.\")"
   ]
  },
  {
   "cell_type": "code",
   "execution_count": 9,
   "metadata": {},
   "outputs": [
    {
     "name": "stdout",
     "output_type": "stream",
     "text": [
      "Starting research for query: \"The impact of quantum computing on cryptography by 2030\"\n",
      "Report will be sent to WhatsApp: +4915222350056\n",
      "Starting research process...\n",
      "Planning searches...\n",
      "Will perform 3 searches\n",
      "Searching...\n",
      "Finished searching\n",
      "Thinking about report...\n",
      "Finished writing report\n",
      "Preparing WhatsApp message...\n",
      "WhatsApp message status: The research report titled \"*The Impact of Quantum Computing on Cryptography by 2030*\" has been successfully sent to the WhatsApp number +4915222350056. If you need any further assistance or details, feel free to ask! 📩\n",
      "Hooray! Research and WhatsApp notification complete.\n"
     ]
    },
    {
     "data": {
      "text/markdown": [
       "# The Impact of Quantum Computing on Cryptography by 2030\n",
       "\n",
       "## Table of Contents\n",
       "\n",
       "1. [Introduction](#introduction)  \n",
       "2. [Understanding Quantum Computing](#understanding-quantum-computing)  \n",
       "   1. [Defining Quantum Computing](#defining-quantum-computing)  \n",
       "   2. [Quantum Mechanics Basics](#quantum-mechanics-basics)  \n",
       "3. [Current Cryptographic Systems](#current-cryptographic-systems)  \n",
       "   1. [Symmetric vs. Asymmetric Cryptography](#symmetric-vs-asymmetric-cryptography)  \n",
       "   2. [Key Cryptographic Algorithms Vulnerable to Quantum Computing](#key-cryptographic-algorithms-vulnerable-to-quantum-computing)  \n",
       "4. [The Risks Posed by Quantum Computing](#the-risks-posed-by-quantum-computing)  \n",
       "   1. [Shor’s Algorithm and Its Implications](#shors-algorithm-and-its-implications)  \n",
       "   2. [Potential Consequences of Cryptographic Failure](#potential-consequences-of-cryptographic-failure)  \n",
       "5. [Call to Action: Preparing for Quantum Threats](#call-to-action-preparing-for-quantum-threats)  \n",
       "   1. [Recommendations from Cyber Security Authorities](#recommendations-from-cyber-security-authorities)  \n",
       "   2. [Strategies for Transitioning to Quantum-Resistant Cryptography](#strategies-for-transitioning-to-quantum-resistant-cryptography)  \n",
       "6. [Post-Quantum Cryptography Developments](#post-quantum-cryptography-developments)  \n",
       "   1. [NIST's Role in Developing New Standards](#nist-role-in-developing-new-standards)  \n",
       "   2. [Emerging Post-Quantum Algorithms](#emerging-post-quantum-algorithms)  \n",
       "7. [Case Studies and Real-World Applications](#case-studies-and-real-world-applications)  \n",
       "   1. [Financial Sector Initiatives](#financial-sector-initiatives)  \n",
       "   2. [Telecommunications Advancements](#telecommunications-advancements)  \n",
       "8. [Conclusion](#conclusion)  \n",
       "9. [Follow-Up Questions](#follow-up-questions)  \n",
       "\n",
       "## Introduction  \n",
       "Quantum computing is on the rise, with predictions of operational large-scale quantum computers by 2030. This technological shift poses a considerable risk to current cryptographic systems, designed primarily under classical computing paradigms. As organizations prepare for this disruption, understanding the fundamental principles of quantum computing and their implications for cryptography becomes essential.\n",
       "\n",
       "## Understanding Quantum Computing  \n",
       "### Defining Quantum Computing  \n",
       "Quantum computing leverages the principles of quantum mechanics to process information in ways unimaginable through classical computing. Unlike classical bits, which represent data as either 0 or 1, quantum bits, or qubits, can exist in numerous states simultaneously, allowing for complex calculations to be performed exponentially faster.\n",
       "\n",
       "### Quantum Mechanics Basics  \n",
       "Quantum mechanics introduces phenomena such as superposition and entanglement. Superposition allows qubits to be in multiple states at once, while entanglement connects qubits such that the state of one can instantaneously affect the state of another, regardless of distance. These principles underpin the power of quantum computers.\n",
       "\n",
       "## Current Cryptographic Systems  \n",
       "### Symmetric vs. Asymmetric Cryptography  \n",
       "Cryptography generally includes two types:  \n",
       "- **Symmetric Encryption:** Utilizes the same key for both encryption and decryption (e.g., AES).\n",
       "- **Asymmetric Encryption:** Employs a pair of keys (public and private), mainly represented by algorithms like RSA and ECC, which are susceptible to quantum attacks.\n",
       "\n",
       "### Key Cryptographic Algorithms Vulnerable to Quantum Computing  \n",
       "The security of many commonly adopted encryption techniques relies on the difficulty of mathematical problems, such as:\n",
       "- **Prime Factorization:** A cornerstone of RSA encryption.\n",
       "- **Discrete Logarithms:** A fundamental part of ECC.\n",
       "These algorithms are particularly vulnerable to quantum algorithms, especially Shor’s algorithm, which can compute these problems in polynomial time.\n",
       "\n",
       "## The Risks Posed by Quantum Computing  \n",
       "### Shor’s Algorithm and Its Implications  \n",
       "Shor's algorithm, developed by mathematician Peter Shor, demonstrates that quantum computers could efficiently factor large integers, breaking RSA encryption and potentially compromising any systems relying on such encryption by 2030.\n",
       "\n",
       "### Potential Consequences of Cryptographic Failure  \n",
       "The implications of failing to transition to quantum-resistant systems are severe, including  \n",
       "- Unauthorized access to sensitive information (financial, medical, personal).\n",
       "- Risk of data integrity and authenticity compromised.  \n",
       "- Increased cyber risks given the capability of quantum computers to undermine trust in digital communications.\n",
       "\n",
       "## Call to Action: Preparing for Quantum Threats  \n",
       "### Recommendations from Cyber Security Authorities  \n",
       "Organizations worldwide, including the UK’s National Cyber Security Centre (NCSC) and the National Institute of Standards and Technology (NIST) in the U.S., recommend proactive measures:\n",
       "- Begin transitioning to post-quantum cryptography as early as 2028.\n",
       "- Regularly update cryptographic infrastructure and stay informed about ongoing advancements in quantum technology.\n",
       "\n",
       "### Strategies for Transitioning to Quantum-Resistant Cryptography  \n",
       "Organizations should  \n",
       "- Conduct assessments of their current cryptographic systems and their vulnerabilities.\n",
       "- Start pilot projects to understand the implementation challenges of new algorithms.\n",
       "- Collaborate with industry peers to share best practices and develop a common roadmap toward quantum resilience.\n",
       "\n",
       "## Post-Quantum Cryptography Developments  \n",
       "### NIST's Role in Developing New Standards  \n",
       "NIST is actively working on establishing standards for post-quantum cryptography, which include three algorithms designed to offer robust alternatives against quantum computing attacks. The selection process for these algorithms aims to ensure security across various applications.\n",
       "\n",
       "### Emerging Post-Quantum Algorithms  \n",
       "Recent studies have identified several promising post-quantum algorithms:\n",
       "- **Lattice-based encryption:** Uses mathematical structures to create strong security.\n",
       "- **Hash-based signatures:** Leverages hash functions to ensure data integrity.\n",
       "- **Code-based and multivariate polynomial approaches:** Provide unique methods to counteract quantum attacks.\n",
       "\n",
       "## Case Studies and Real-World Applications  \n",
       "### Financial Sector Initiatives  \n",
       "Financial institutions have begun recognizing the necessity of adopting post-quantum cryptographic frameworks to protect transactions and preserve customer trust. Strategic plans include moving towards quantum-safe standards and increasing security awareness among stakeholders.\n",
       "\n",
       "### Telecommunications Advancements  \n",
       "Research units like Toshiba have made significant strides with real-world applications, successfully transmitting quantum-encrypted messages over extensive telecommunications networks. Such advancements pave the way for secure communication protocols in a future dominated by quantum technologies.\n",
       "\n",
       "## Conclusion  \n",
       "The advent of quantum computing by 2030 will inevitably alter the landscape of cryptography. Governments and organizations must prepare for this transformation by implementing robust measures and transitioning towards post-quantum cryptographic systems. Immediate action will mitigate the risks posed by quantum threats, safeguarding sensitive digital information and ensuring the continued trust in cryptographic practices.\n",
       "\n",
       "## Follow-Up Questions  \n",
       "- What specific actions should organizations take to transition seamlessly to post-quantum cryptography?\n",
       "- What are the legal implications of transitioning to new cryptographic standards?\n",
       "- How can businesses measure the effectiveness of their quantum-resistant systems?  \n",
       "- What specific realms of research into post-quantum algorithms are still ongoing, and what are their potential impacts?"
      ],
      "text/plain": [
       "<IPython.core.display.Markdown object>"
      ]
     },
     "metadata": {},
     "output_type": "display_data"
    },
    {
     "name": "stdout",
     "output_type": "stream",
     "text": [
      "Short Summary: By 2030, advancements in quantum computing are set to disrupt traditional cryptographic methods, particularly those reliant on prime factorization and discrete logarithms. This creates a pressing need for organizations to transition to post-quantum cryptographic systems to ensure data security against potential quantum-based attacks, with significant initiatives already underway from various national and international bodies.\n",
      "Follow-up Questions: ['What specific actions should organizations take to transition seamlessly to post-quantum cryptography?', 'What are the legal implications of transitioning to new cryptographic standards?', 'How can businesses measure the effectiveness of their quantum-resistant systems?', 'What specific realms of research into post-quantum algorithms are still ongoing, and what are their potential impacts?']\n",
      "\n",
      "Workflow execution complete. Check your WhatsApp for the report!\n",
      "Remember to check the trace at https://platform.openai.com/traces for detailed execution steps.\n"
     ]
    }
   ],
   "source": [
    "# Define the research query and WhatsApp number\n",
    "query = \"The impact of quantum computing on cryptography by 2030\"\n",
    "whatsapp_number = \"+4915222350056\"  # Replace with your actual WhatsApp number\n",
    "\n",
    "print(f\"Starting research for query: \\\"{query}\\\"\")\n",
    "print(f\"Report will be sent to WhatsApp: {whatsapp_number}\")\n",
    "\n",
    "# Execute the research workflow\n",
    "with trace(\"Research trace\"):\n",
    "    print(\"Starting research process...\")\n",
    "    search_plan = await plan_searches(query)\n",
    "    search_results = await perform_searches(search_plan)\n",
    "    report = await write_report(query, search_results)\n",
    "    await send_report_to_whatsapp(report, whatsapp_number)\n",
    "    print(\"Hooray! Research and WhatsApp notification complete.\")\n",
    "\n",
    "# Display the final report in the notebook\n",
    "display(Markdown(report.markdown_report))\n",
    "print(f\"Short Summary: {report.short_summary}\")\n",
    "print(f\"Follow-up Questions: {report.follow_up_questions}\")\n",
    "\n",
    "print(\"\\nWorkflow execution complete. Check your WhatsApp for the report!\")\n",
    "print(\"Remember to check the trace at https://platform.openai.com/traces for detailed execution steps.\")"
   ]
  }
 ],
 "metadata": {
  "kernelspec": {
   "display_name": ".venv",
   "language": "python",
   "name": "python3"
  },
  "language_info": {
   "codemirror_mode": {
    "name": "ipython",
    "version": 3
   },
   "file_extension": ".py",
   "mimetype": "text/x-python",
   "name": "python",
   "nbconvert_exporter": "python",
   "pygments_lexer": "ipython3",
   "version": "3.13.2"
  }
 },
 "nbformat": 4,
 "nbformat_minor": 2
}
