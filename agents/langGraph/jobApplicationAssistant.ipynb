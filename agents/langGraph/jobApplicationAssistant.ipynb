{
 "cells": [
  {
   "cell_type": "code",
   "execution_count": 1,
   "metadata": {},
   "outputs": [],
   "source": [
    "# Cell 1: Import all required libraries\n",
    "from typing import Annotated, TypedDict\n",
    "from langgraph.graph import StateGraph, START, END\n",
    "from langgraph.graph.message import add_messages\n",
    "from langgraph.prebuilt import ToolNode, tools_condition\n",
    "from langgraph.checkpoint.sqlite import SqliteSaver\n",
    "from langchain_openai import ChatOpenAI\n",
    "from langchain.agents import Tool\n",
    "from langchain_community.utilities import GoogleSerperAPIWrapper\n",
    "from dotenv import load_dotenv\n",
    "from IPython.display import Image, display\n",
    "import requests\n",
    "import sqlite3\n",
    "import os\n",
    "import json"
   ]
  },
  {
   "cell_type": "code",
   "execution_count": 2,
   "metadata": {},
   "outputs": [
    {
     "data": {
      "text/plain": [
       "True"
      ]
     },
     "execution_count": 2,
     "metadata": {},
     "output_type": "execute_result"
    }
   ],
   "source": [
    "load_dotenv(override=True)"
   ]
  },
  {
   "cell_type": "code",
   "execution_count": 3,
   "metadata": {},
   "outputs": [],
   "source": [
    "from dotenv import load_dotenv\n",
    "import os\n",
    "import time\n",
    "\n",
    "load_dotenv()\n",
    "\n",
    "def send_whatsapp_notification(message: str):\n",
    "    \"\"\"Send WhatsApp notification about job application updates\"\"\"\n",
    "    from twilio.rest import Client\n",
    "\n",
    "    # Get credentials\n",
    "    account_sid = os.getenv(\"WHATSAPP_ACCOUNT_SID\")\n",
    "    auth_token = os.getenv(\"WHATSAPP_AUTH_TOKEN\")\n",
    "    from_number = os.getenv(\"WHATSAPP_FROM_NUMBER\")  # Should be +14155238886\n",
    "    to_number = \"+4915222350056\"  \n",
    "\n",
    "    # Validate credentials\n",
    "    if not all([account_sid, auth_token, from_number]):\n",
    "        return \"❌ Error: WhatsApp credentials not found in environment variables.\"\n",
    "\n",
    "    if not message or not message.strip():\n",
    "        return \"❌ Error: Message content cannot be empty.\"\n",
    "\n",
    "    try:\n",
    "        client = Client(account_sid, auth_token)\n",
    "        \n",
    "        # WhatsApp message length limit\n",
    "        MAX_LENGTH = 1500  # Conservative limit\n",
    "        \n",
    "        if len(message) <= MAX_LENGTH:\n",
    "            # Send as single message\n",
    "            twilio_message = client.messages.create(\n",
    "                from_=f'whatsapp:{from_number}',\n",
    "                body=f\"🚀 Job Assistant Update:\\n\\n{message}\",\n",
    "                to=f'whatsapp:{to_number}'\n",
    "            )\n",
    "            return f\"✅ WhatsApp message sent successfully! SID: {twilio_message.sid}\"\n",
    "        else:\n",
    "            # Split into multiple messages\n",
    "            chunks = [message[i:i + MAX_LENGTH] for i in range(0, len(message), MAX_LENGTH)]\n",
    "            sids = []\n",
    "            \n",
    "            for i, chunk in enumerate(chunks, 1):\n",
    "                content = f\"🚀 Job Assistant (Part {i}/{len(chunks)}):\\n\\n{chunk}\"\n",
    "                twilio_message = client.messages.create(\n",
    "                    from_=f'whatsapp:{from_number}',\n",
    "                    body=content,\n",
    "                    to=f'whatsapp:{to_number}'\n",
    "                )\n",
    "                sids.append(twilio_message.sid)\n",
    "                \n",
    "                # Rate limiting\n",
    "                if i < len(chunks):\n",
    "                    time.sleep(2)\n",
    "            \n",
    "            return f\"✅ WhatsApp message sent in {len(chunks)} parts! SIDs: {', '.join(sids)}\"\n",
    "            \n",
    "    except Exception as e:\n",
    "        return f\"❌ Failed to send WhatsApp message: {str(e)}\""
   ]
  },
  {
   "cell_type": "code",
   "execution_count": 4,
   "metadata": {},
   "outputs": [],
   "source": [
    "def search_jobs(query: str):\n",
    "    \"\"\"Search for job listings using Google Search\"\"\"\n",
    "    try:\n",
    "        # Using Google search to find job listings\n",
    "        search_query = f\"{query} jobs site:linkedin.com OR site:indeed.com OR site:glassdoor.com\"\n",
    "        serper = GoogleSerperAPIWrapper()\n",
    "        results = serper.run(search_query)\n",
    "        return results\n",
    "    except Exception as e:\n",
    "        return f\"Job search failed: {str(e)}\""
   ]
  },
  {
   "cell_type": "code",
   "execution_count": 5,
   "metadata": {},
   "outputs": [],
   "source": [
    "def research_company(company_name: str):\n",
    "    \"\"\"Research company information for interview preparation\"\"\"\n",
    "    try:\n",
    "        serper = GoogleSerperAPIWrapper()\n",
    "        research_query = f\"{company_name} company culture recent news funding\"\n",
    "        results = serper.run(research_query)\n",
    "        return results\n",
    "    except Exception as e:\n",
    "        return f\"Company research failed: {str(e)}\""
   ]
  },
  {
   "cell_type": "code",
   "execution_count": 6,
   "metadata": {},
   "outputs": [],
   "source": [
    "def get_salary_info(job_title: str, location: str = \"\"):\n",
    "    \"\"\"Get salary information for a specific job title and location\"\"\"\n",
    "    try:\n",
    "        serper = GoogleSerperAPIWrapper()\n",
    "        salary_query = f\"{job_title} salary {location} glassdoor levels.fyi\"\n",
    "        results = serper.run(salary_query)\n",
    "        return results\n",
    "    except Exception as e:\n",
    "        return f\"Salary research failed: {str(e)}\""
   ]
  },
  {
   "cell_type": "code",
   "execution_count": 7,
   "metadata": {},
   "outputs": [],
   "source": [
    "tool_whatsapp = Tool(\n",
    "    name=\"send_whatsapp_notification\",\n",
    "    func=send_whatsapp_notification,\n",
    "    description=\"Send WhatsApp notification about important job updates or reminders\"\n",
    ")\n",
    "\n",
    "tool_job_search = Tool(\n",
    "    name=\"search_jobs\",\n",
    "    func=search_jobs,\n",
    "    description=\"Search for job listings based on role, skills, or company\"\n",
    ")\n",
    "\n",
    "tool_company_research = Tool(\n",
    "    name=\"research_company\",\n",
    "    func=research_company,\n",
    "    description=\"Research company information, culture, and recent news for interview prep\"\n",
    ")\n",
    "\n",
    "tool_salary_research = Tool(\n",
    "    name=\"get_salary_info\",\n",
    "    func=get_salary_info,\n",
    "    description=\"Get salary information for specific job titles and locations\"\n",
    ")"
   ]
  },
  {
   "cell_type": "code",
   "execution_count": 8,
   "metadata": {},
   "outputs": [],
   "source": [
    "tools = [tool_whatsapp, tool_job_search, tool_company_research, tool_salary_research]\n"
   ]
  },
  {
   "cell_type": "code",
   "execution_count": 9,
   "metadata": {},
   "outputs": [],
   "source": [
    "class JobAssistantState(TypedDict):\n",
    "    \"\"\"State structure for our Job Application Assistant\"\"\"\n",
    "    messages: Annotated[list, add_messages]\n",
    "    # Could add more fields like:\n",
    "    # current_applications: list\n",
    "    # interview_schedule: list\n",
    "    "
   ]
  },
  {
   "cell_type": "code",
   "execution_count": 10,
   "metadata": {},
   "outputs": [],
   "source": [
    "graph_builder = StateGraph(JobAssistantState)"
   ]
  },
  {
   "cell_type": "code",
   "execution_count": 11,
   "metadata": {},
   "outputs": [],
   "source": [
    "llm = ChatOpenAI(model=\"gpt-4o-mini\", temperature=0.7)\n",
    "llm_with_tools = llm.bind_tools(tools)"
   ]
  },
  {
   "cell_type": "code",
   "execution_count": 12,
   "metadata": {},
   "outputs": [],
   "source": [
    "def job_assistant(state: JobAssistantState):\n",
    "    \"\"\"\n",
    "    Main assistant node that processes user requests and decides on actions\n",
    "    \"\"\"\n",
    "    # Add system prompt for job assistance context\n",
    "    system_message = {\n",
    "        \"role\": \"system\",\n",
    "        \"content\": \"\"\"You are a helpful Job Application Assistant. You can:\n",
    "\n",
    "        1. Search for job opportunities\n",
    "        2. Research companies for interview preparation\n",
    "        3. Find salary information\n",
    "        4. Send WhatsApp notifications for important updates\n",
    "\n",
    "        Always be encouraging and professional. When you find important information\n",
    "        or complete a task, consider sending a WhatsApp notification to keep the user updated.\n",
    "\n",
    "        For job searches, be specific about what you found.\n",
    "        For company research, focus on culture, recent news, and interview tips.\n",
    "        For salary research, provide ranges and mention sources.\n",
    "        \"\"\"\n",
    "    }\n",
    "\n",
    "    # Combine system message with conversation history\n",
    "    messages_with_system = [system_message] + state[\"messages\"]\n",
    "\n",
    "    # Get response from LLM\n",
    "    response = llm_with_tools.invoke(messages_with_system)\n",
    "\n",
    "    return {\"messages\": [response]}"
   ]
  },
  {
   "cell_type": "code",
   "execution_count": 13,
   "metadata": {},
   "outputs": [
    {
     "data": {
      "text/plain": [
       "<langgraph.graph.state.StateGraph at 0x1121f2900>"
      ]
     },
     "execution_count": 13,
     "metadata": {},
     "output_type": "execute_result"
    }
   ],
   "source": [
    "graph_builder.add_node(\"job_assistant\", job_assistant)\n",
    "graph_builder.add_node(\"tools\", ToolNode(tools=tools))"
   ]
  },
  {
   "cell_type": "code",
   "execution_count": 14,
   "metadata": {},
   "outputs": [
    {
     "data": {
      "text/plain": [
       "<langgraph.graph.state.StateGraph at 0x1121f2900>"
      ]
     },
     "execution_count": 14,
     "metadata": {},
     "output_type": "execute_result"
    }
   ],
   "source": [
    "# Start with the assistant\n",
    "graph_builder.add_edge(START, \"job_assistant\")\n",
    "\n",
    "# Conditional edge: if tools needed, go to tools node, otherwise end\n",
    "graph_builder.add_conditional_edges(\n",
    "    \"job_assistant\",\n",
    "    tools_condition,\n",
    "    {\n",
    "        \"tools\": \"tools\",\n",
    "        \"__end__\": END\n",
    "    }\n",
    ")\n",
    "\n",
    "# After using tools, always return to assistant\n",
    "graph_builder.add_edge(\"tools\", \"job_assistant\")"
   ]
  },
  {
   "cell_type": "code",
   "execution_count": 15,
   "metadata": {},
   "outputs": [],
   "source": [
    "db_path = \"job_assistant_memory.db\"\n",
    "conn = sqlite3.connect(db_path, check_same_thread=False)\n",
    "memory = SqliteSaver(conn)"
   ]
  },
  {
   "cell_type": "code",
   "execution_count": 16,
   "metadata": {},
   "outputs": [],
   "source": [
    "job_graph = graph_builder.compile(checkpointer=memory)"
   ]
  },
  {
   "cell_type": "code",
   "execution_count": 17,
   "metadata": {},
   "outputs": [
    {
     "data": {
      "image/png": "[encoded data removed]",
      "text/plain": [
       "<IPython.core.display.Image object>"
      ]
     },
     "metadata": {},
     "output_type": "display_data"
    }
   ],
   "source": [
    "display(Image(job_graph.get_graph().draw_mermaid_png()))"
   ]
  },
  {
   "cell_type": "code",
   "execution_count": 18,
   "metadata": {},
   "outputs": [
    {
     "name": "stdout",
     "output_type": "stream",
     "text": [
      "Testing WhatsApp notification...\n",
      "✅ WhatsApp message sent successfully! SID: SMf0ce95b75534d1a2a242b73695df0dca\n"
     ]
    }
   ],
   "source": [
    "print(\"Testing WhatsApp notification...\")\n",
    "result = tool_whatsapp.invoke(\"Job Assistant is now active and ready to help!\")\n",
    "print(result)"
   ]
  },
  {
   "cell_type": "code",
   "execution_count": 19,
   "metadata": {},
   "outputs": [],
   "source": [
    "def chat_with_job_assistant(user_input: str, thread_id: str = \"default_user\"):\n",
    "    \"\"\"\n",
    "    Main chat function for interacting with the job assistant\n",
    "    \"\"\"\n",
    "    config = {\"configurable\": {\"thread_id\": thread_id}}\n",
    "\n",
    "    # Invoke the graph with user input\n",
    "    result = job_graph.invoke(\n",
    "        {\"messages\": [{\"role\": \"user\", \"content\": user_input}]},\n",
    "        config=config\n",
    "    )\n",
    "\n",
    "    # Return the last assistant message\n",
    "    return result[\"messages\"][-1].content"
   ]
  },
  {
   "cell_type": "code",
   "execution_count": 20,
   "metadata": {},
   "outputs": [
    {
     "name": "stdout",
     "output_type": "stream",
     "text": [
      "=== Example 1: Job Search ===\n",
      "I found a significant number of Python developer job opportunities in San Francisco! Here are the details:\n",
      "\n",
      "### Job Listings\n",
      "- **Total Listings**: Approximately **1,500 Python developer jobs** available in the San Francisco Bay Area.\n",
      "- **Job Types**: Positions include:\n",
      "  - Python Developer\n",
      "  - Front End Developer\n",
      "  - Software Trainer\n",
      "  - Backend Python Developer\n",
      "  - Data Scientist\n",
      "  - Machine Learning Engineer\n",
      "\n",
      "### Salary Ranges\n",
      "- **Entry-Level Positions**: Typically range from **$30 to $35** per hour.\n",
      "- **Full Stack Engineer**: Estimated between **$120,000 - $180,000** annually.\n",
      "- **Software Engineer (Backend)**: Estimated between **$143,640 - $197,640** annually.\n",
      "\n",
      "These opportunities can be found on platforms like Indeed.com, and new listings are added daily.\n",
      "\n",
      "If you're interested in applying or need help with your application materials, such as a resume or cover letter, just let me know! Would you like me to send this information as a WhatsApp notification?\n",
      "\n",
      "==================================================\n",
      "\n",
      "=== Example 2: Company Research ===\n",
      "Here's a comprehensive overview of Google to help you prepare for your interview:\n",
      "\n",
      "### Company Overview\n",
      "- **Recent Developments**: Google has recently offered buyouts to employees across various divisions, including knowledge and information, engineering, and marketing. This decision comes amid ongoing changes in the tech landscape driven by AI advancements and antitrust concerns.\n",
      "- **Legal Issues**: The company agreed to pay **$50 million** to settle a lawsuit alleging systemic racial bias against Black employees.\n",
      "- **Diversity Initiatives**: Google has faced criticism regarding its diversity, equity, and inclusion (DEI) efforts, including scrapping its goals to hire more employees from historically underrepresented groups.\n",
      "\n",
      "### Company Culture\n",
      "- Google is known for its innovative and collaborative work environment. However, recent reports highlight challenges regarding workplace culture, particularly in terms of diversity and inclusion.\n",
      "- The company has faced accusations of maintaining a potentially discriminatory work environment, which may be a point of discussion during interviews.\n",
      "\n",
      "### Salary Information\n",
      "- The median total compensation for a Software Engineer at Google in the United States is approximately **$304,000** annually. This includes base salary, bonuses, and stock options, indicating a competitive compensation structure.\n",
      "\n",
      "### Interview Tips\n",
      "- **Understand Company Values**: Familiarize yourself with Google's core values, including a focus on user experience and innovation.\n",
      "- **Technical Preparation**: Be prepared for technical interviews that may include coding challenges and system design questions.\n",
      "- **Behavioral Questions**: Prepare to discuss your past experiences, how you handle challenges, and your approach to teamwork.\n",
      "\n",
      "If you have specific areas you want to focus on or additional questions, feel free to ask! Would you like me to send this information as a WhatsApp notification for your convenience?\n",
      "\n",
      "==================================================\n",
      "\n",
      "=== Example 3: Salary Research ===\n",
      "The salary information for a Senior Software Engineer in Seattle is as follows:\n",
      "\n",
      "- **Average Total Compensation**: Approximately **$244,000** annually.\n",
      "\n",
      "This figure typically includes base salary, bonuses, and stock options. The specific salary range for Senior Software Engineers can vary widely based on factors such as experience, specific company, and role.\n",
      "\n",
      "If you need more detailed information or insights into specific companies, feel free to ask! Would you like me to send this information as a WhatsApp notification for your reference?\n",
      "\n",
      "==================================================\n",
      "\n",
      "=== Example 4: Memory Test ===\n",
      "I've sent you a WhatsApp reminder with all the important details about Google and the salary information for Senior Software Engineers in Seattle. If you need any more assistance or information, feel free to reach out! Good luck with your interview!\n"
     ]
    }
   ],
   "source": [
    "if __name__ == \"__main__\":\n",
    "\n",
    "    # Example 1: Job Search\n",
    "    print(\"=== Example 1: Job Search ===\")\n",
    "    response1 = chat_with_job_assistant(\n",
    "        \"Find me Python developer jobs in San Francisco\",\n",
    "        thread_id=\"user_john\"\n",
    "    )\n",
    "    print(response1)\n",
    "\n",
    "    print(\"\\n\" + \"=\"*50 + \"\\n\")\n",
    "\n",
    "    # Example 2: Company Research\n",
    "    print(\"=== Example 2: Company Research ===\")\n",
    "    response2 = chat_with_job_assistant(\n",
    "        \"Research Google as a company for my upcoming interview\",\n",
    "        thread_id=\"user_john\"\n",
    "    )\n",
    "    print(response2)\n",
    "\n",
    "    print(\"\\n\" + \"=\"*50 + \"\\n\")\n",
    "\n",
    "    # Example 3: Salary Research\n",
    "    print(\"=== Example 3: Salary Research ===\")\n",
    "    response3 = chat_with_job_assistant(\n",
    "        \"What's the salary range for Senior Software Engineer in Seattle?\",\n",
    "        thread_id=\"user_john\"\n",
    "    )\n",
    "    print(response3)\n",
    "\n",
    "    print(\"\\n\" + \"=\"*50 + \"\\n\")\n",
    "\n",
    "    # Example 4: Memory Test\n",
    "    print(\"=== Example 4: Memory Test ===\")\n",
    "    response4 = chat_with_job_assistant(\n",
    "        \"Send me a WhatsApp reminder about the companies we discussed\",\n",
    "        thread_id=\"user_john\"  # Same thread - should remember Google\n",
    "    )\n",
    "    print(response4)"
   ]
  },
  {
   "cell_type": "code",
   "execution_count": 21,
   "metadata": {},
   "outputs": [],
   "source": [
    "def view_conversation_history(thread_id: str):\n",
    "    \"\"\"View the complete conversation history for a thread\"\"\"\n",
    "    config = {\"configurable\": {\"thread_id\": thread_id}}\n",
    "\n",
    "    # Get current state\n",
    "    current_state = job_graph.get_state(config)\n",
    "    print(f\"Current conversation for thread '{thread_id}':\")\n",
    "    print(\"=\"*50)\n",
    "\n",
    "    for message in current_state.values[\"messages\"]:\n",
    "        role = message.get(\"role\", \"unknown\")\n",
    "        content = message.get(\"content\", \"\")\n",
    "        print(f\"{role.upper()}: {content[:100]}...\")\n",
    "        print(\"-\" * 30)"
   ]
  },
  {
   "cell_type": "code",
   "execution_count": 22,
   "metadata": {},
   "outputs": [
    {
     "name": "stderr",
     "output_type": "stream",
     "text": [
      "/Users/bharathkumarreddygorla/Desktop/my-agentic-ai-examples/.venv/lib/python3.13/site-packages/tqdm/auto.py:21: TqdmWarning: IProgress not found. Please update jupyter and ipywidgets. See https://ipywidgets.readthedocs.io/en/stable/user_install.html\n",
      "  from .autonotebook import tqdm as notebook_tqdm\n",
      "/Users/bharathkumarreddygorla/Desktop/my-agentic-ai-examples/.venv/lib/python3.13/site-packages/gradio/chat_interface.py:339: UserWarning: The 'tuples' format for chatbot messages is deprecated and will be removed in a future version of Gradio. Please set type='messages' instead, which uses openai-style 'role' and 'content' keys.\n",
      "  self.chatbot = Chatbot(\n"
     ]
    },
    {
     "name": "stdout",
     "output_type": "stream",
     "text": [
      "* Running on local URL:  http://127.0.0.1:7860\n",
      "* Running on public URL: https://648430521803919e65.gradio.live\n",
      "\n",
      "This share link expires in 1 week. For free permanent hosting and GPU upgrades, run `gradio deploy` from the terminal in the working directory to deploy to Hugging Face Spaces (https://huggingface.co/spaces)\n"
     ]
    },
    {
     "data": {
      "text/html": [
       "<div><iframe src=\"https://648430521803919e65.gradio.live\" width=\"100%\" height=\"500\" allow=\"autoplay; camera; microphone; clipboard-read; clipboard-write;\" frameborder=\"0\" allowfullscreen></iframe></div>"
      ],
      "text/plain": [
       "<IPython.core.display.HTML object>"
      ]
     },
     "metadata": {},
     "output_type": "display_data"
    },
    {
     "data": {
      "text/plain": []
     },
     "execution_count": 22,
     "metadata": {},
     "output_type": "execute_result"
    }
   ],
   "source": [
    "\n",
    "import gradio as gr\n",
    "\n",
    "def gradio_chat(message, history, thread_id):\n",
    "    response = chat_with_job_assistant(message, thread_id)\n",
    "    return response\n",
    "\n",
    "# Create Gradio interface\n",
    "demo = gr.ChatInterface(\n",
    "    fn=gradio_chat,\n",
    "    title=\"🚀 Job Application Assistant\",\n",
    "    description=\"AI assistant for job searching, company research, and application tracking with WhatsApp notifications!\",\n",
    "    additional_inputs=[\n",
    "        gr.Textbox(value=\"default_user\", label=\"Thread ID (for separate conversations)\")\n",
    "    ]\n",
    ")\n",
    "\n",
    "# Launch the interface\n",
    "demo.launch(share=True)\n"
   ]
  },
  {
   "cell_type": "code",
   "execution_count": null,
   "metadata": {},
   "outputs": [],
   "source": []
  }
 ],
 "metadata": {
  "kernelspec": {
   "display_name": ".venv",
   "language": "python",
   "name": "python3"
  },
  "language_info": {
   "codemirror_mode": {
    "name": "ipython",
    "version": 3
   },
   "file_extension": ".py",
   "mimetype": "text/x-python",
   "name": "python",
   "nbconvert_exporter": "python",
   "pygments_lexer": "ipython3",
   "version": "3.13.2"
  }
 },
 "nbformat": 4,
 "nbformat_minor": 2
}
